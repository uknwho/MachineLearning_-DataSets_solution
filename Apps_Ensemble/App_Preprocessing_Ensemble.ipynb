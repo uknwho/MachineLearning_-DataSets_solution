{
 "cells": [
  {
   "cell_type": "markdown",
   "metadata": {
    "ExecuteTime": {
     "end_time": "2020-08-08T06:56:13.720552Z",
     "start_time": "2020-08-08T06:56:13.717559Z"
    }
   },
   "source": [
    "# APP RATING DATA SET"
   ]
  },
  {
   "cell_type": "markdown",
   "metadata": {},
   "source": [
    "## AIM\n",
    "To predict rating for a mobile app given features like size, number of downloads, etc."
   ]
  },
  {
   "cell_type": "markdown",
   "metadata": {
    "ExecuteTime": {
     "end_time": "2020-08-03T06:47:58.898022Z",
     "start_time": "2020-08-03T06:47:58.894033Z"
    }
   },
   "source": [
    "# Importing Libraries"
   ]
  },
  {
   "cell_type": "code",
   "execution_count": 240,
   "metadata": {
    "ExecuteTime": {
     "end_time": "2020-08-08T06:53:12.529598Z",
     "start_time": "2020-08-08T06:53:12.522603Z"
    }
   },
   "outputs": [],
   "source": [
    "import numpy as np\n",
    "import pandas as pd\n",
    "import matplotlib.pyplot as plt\n",
    "import seaborn as sns\n",
    "\n",
    "%matplotlib inline"
   ]
  },
  {
   "cell_type": "code",
   "execution_count": 241,
   "metadata": {
    "ExecuteTime": {
     "end_time": "2020-08-08T06:53:12.917156Z",
     "start_time": "2020-08-08T06:53:12.531579Z"
    }
   },
   "outputs": [],
   "source": [
    "app_ori = pd.read_csv('Apps_data.csv') "
   ]
  },
  {
   "cell_type": "code",
   "execution_count": 242,
   "metadata": {
    "ExecuteTime": {
     "end_time": "2020-08-08T06:53:12.994154Z",
     "start_time": "2020-08-08T06:53:12.919326Z"
    }
   },
   "outputs": [
    {
     "data": {
      "text/html": [
       "<div>\n",
       "<style scoped>\n",
       "    .dataframe tbody tr th:only-of-type {\n",
       "        vertical-align: middle;\n",
       "    }\n",
       "\n",
       "    .dataframe tbody tr th {\n",
       "        vertical-align: top;\n",
       "    }\n",
       "\n",
       "    .dataframe thead th {\n",
       "        text-align: right;\n",
       "    }\n",
       "</style>\n",
       "<table border=\"1\" class=\"dataframe\">\n",
       "  <thead>\n",
       "    <tr style=\"text-align: right;\">\n",
       "      <th></th>\n",
       "      <th>App</th>\n",
       "      <th>Category</th>\n",
       "      <th>Rating</th>\n",
       "      <th>Reviews</th>\n",
       "      <th>Size</th>\n",
       "      <th>Installs</th>\n",
       "      <th>Type</th>\n",
       "      <th>Price</th>\n",
       "      <th>Content Rating</th>\n",
       "      <th>Genres</th>\n",
       "      <th>Last Updated</th>\n",
       "      <th>Current Ver</th>\n",
       "      <th>Android Ver</th>\n",
       "    </tr>\n",
       "  </thead>\n",
       "  <tbody>\n",
       "    <tr>\n",
       "      <th>7053</th>\n",
       "      <td>Dragon BZ Wallpapers HD</td>\n",
       "      <td>PERSONALIZATION</td>\n",
       "      <td>NaN</td>\n",
       "      <td>5</td>\n",
       "      <td>17M</td>\n",
       "      <td>1,000+</td>\n",
       "      <td>Free</td>\n",
       "      <td>0</td>\n",
       "      <td>Everyone</td>\n",
       "      <td>Personalization</td>\n",
       "      <td>April 4, 2018</td>\n",
       "      <td>1.11</td>\n",
       "      <td>4.0 and up</td>\n",
       "    </tr>\n",
       "    <tr>\n",
       "      <th>9886</th>\n",
       "      <td>taxi.eu</td>\n",
       "      <td>TRAVEL_AND_LOCAL</td>\n",
       "      <td>4.1</td>\n",
       "      <td>1865</td>\n",
       "      <td>22M</td>\n",
       "      <td>100,000+</td>\n",
       "      <td>Free</td>\n",
       "      <td>0</td>\n",
       "      <td>Everyone</td>\n",
       "      <td>Travel &amp; Local</td>\n",
       "      <td>June 28, 2018</td>\n",
       "      <td>0.437592593</td>\n",
       "      <td>4.4 and up</td>\n",
       "    </tr>\n",
       "    <tr>\n",
       "      <th>7740</th>\n",
       "      <td>Gunship Modern Combat 3D</td>\n",
       "      <td>GAME</td>\n",
       "      <td>4.2</td>\n",
       "      <td>3247</td>\n",
       "      <td>26M</td>\n",
       "      <td>500,000+</td>\n",
       "      <td>Free</td>\n",
       "      <td>0</td>\n",
       "      <td>Teen</td>\n",
       "      <td>Action</td>\n",
       "      <td>July 25, 2017</td>\n",
       "      <td>1.05</td>\n",
       "      <td>2.3 and up</td>\n",
       "    </tr>\n",
       "    <tr>\n",
       "      <th>7551</th>\n",
       "      <td>Inch/cm/Foot Conversion</td>\n",
       "      <td>PRODUCTIVITY</td>\n",
       "      <td>4.0</td>\n",
       "      <td>319</td>\n",
       "      <td>2.1M</td>\n",
       "      <td>100,000+</td>\n",
       "      <td>Free</td>\n",
       "      <td>0</td>\n",
       "      <td>Everyone</td>\n",
       "      <td>Productivity</td>\n",
       "      <td>August 20, 2017</td>\n",
       "      <td>2.00.01</td>\n",
       "      <td>2.3.3 and up</td>\n",
       "    </tr>\n",
       "    <tr>\n",
       "      <th>6036</th>\n",
       "      <td>Rabbithole</td>\n",
       "      <td>FAMILY</td>\n",
       "      <td>3.5</td>\n",
       "      <td>3347</td>\n",
       "      <td>15M</td>\n",
       "      <td>100,000+</td>\n",
       "      <td>Free</td>\n",
       "      <td>0</td>\n",
       "      <td>Everyone</td>\n",
       "      <td>Entertainment</td>\n",
       "      <td>July 18, 2018</td>\n",
       "      <td>1.1.15.12</td>\n",
       "      <td>4.4 and up</td>\n",
       "    </tr>\n",
       "    <tr>\n",
       "      <th>7845</th>\n",
       "      <td>GATE CS Engineering 2019 Exam Prep App</td>\n",
       "      <td>FAMILY</td>\n",
       "      <td>4.2</td>\n",
       "      <td>162</td>\n",
       "      <td>6.2M</td>\n",
       "      <td>10,000+</td>\n",
       "      <td>Free</td>\n",
       "      <td>0</td>\n",
       "      <td>Everyone</td>\n",
       "      <td>Education</td>\n",
       "      <td>February 15, 2018</td>\n",
       "      <td>Y4W-GATE_CS-5.0.0</td>\n",
       "      <td>4.1 and up</td>\n",
       "    </tr>\n",
       "    <tr>\n",
       "      <th>8686</th>\n",
       "      <td>DP &amp; Status for Whatsapp 2018</td>\n",
       "      <td>PERSONALIZATION</td>\n",
       "      <td>4.1</td>\n",
       "      <td>293</td>\n",
       "      <td>3.4M</td>\n",
       "      <td>100,000+</td>\n",
       "      <td>Free</td>\n",
       "      <td>0</td>\n",
       "      <td>Everyone</td>\n",
       "      <td>Personalization</td>\n",
       "      <td>August 3, 2018</td>\n",
       "      <td>1.4</td>\n",
       "      <td>4.0.3 and up</td>\n",
       "    </tr>\n",
       "    <tr>\n",
       "      <th>7926</th>\n",
       "      <td>Tech CU Card Manager</td>\n",
       "      <td>FINANCE</td>\n",
       "      <td>1.0</td>\n",
       "      <td>2</td>\n",
       "      <td>7.2M</td>\n",
       "      <td>1,000+</td>\n",
       "      <td>Free</td>\n",
       "      <td>0</td>\n",
       "      <td>Everyone</td>\n",
       "      <td>Finance</td>\n",
       "      <td>July 25, 2017</td>\n",
       "      <td>1.00.01</td>\n",
       "      <td>4.0 and up</td>\n",
       "    </tr>\n",
       "    <tr>\n",
       "      <th>5697</th>\n",
       "      <td>Total AV</td>\n",
       "      <td>PRODUCTIVITY</td>\n",
       "      <td>3.4</td>\n",
       "      <td>617</td>\n",
       "      <td>46M</td>\n",
       "      <td>100,000+</td>\n",
       "      <td>Free</td>\n",
       "      <td>0</td>\n",
       "      <td>Everyone</td>\n",
       "      <td>Productivity</td>\n",
       "      <td>April 17, 2018</td>\n",
       "      <td>1.05.03</td>\n",
       "      <td>4.1 and up</td>\n",
       "    </tr>\n",
       "    <tr>\n",
       "      <th>6344</th>\n",
       "      <td>3D DJ – DJ Mixer 2018</td>\n",
       "      <td>FAMILY</td>\n",
       "      <td>4.3</td>\n",
       "      <td>6333</td>\n",
       "      <td>30M</td>\n",
       "      <td>1,000,000+</td>\n",
       "      <td>Free</td>\n",
       "      <td>0</td>\n",
       "      <td>Everyone</td>\n",
       "      <td>Entertainment</td>\n",
       "      <td>May 25, 2018</td>\n",
       "      <td>1.01.12</td>\n",
       "      <td>5.0 and up</td>\n",
       "    </tr>\n",
       "  </tbody>\n",
       "</table>\n",
       "</div>"
      ],
      "text/plain": [
       "                                         App          Category  Rating  \\\n",
       "7053                 Dragon BZ Wallpapers HD   PERSONALIZATION     NaN   \n",
       "9886                                 taxi.eu  TRAVEL_AND_LOCAL     4.1   \n",
       "7740                Gunship Modern Combat 3D              GAME     4.2   \n",
       "7551                 Inch/cm/Foot Conversion      PRODUCTIVITY     4.0   \n",
       "6036                              Rabbithole            FAMILY     3.5   \n",
       "7845  GATE CS Engineering 2019 Exam Prep App            FAMILY     4.2   \n",
       "8686           DP & Status for Whatsapp 2018   PERSONALIZATION     4.1   \n",
       "7926                    Tech CU Card Manager           FINANCE     1.0   \n",
       "5697                                Total AV      PRODUCTIVITY     3.4   \n",
       "6344                   3D DJ – DJ Mixer 2018            FAMILY     4.3   \n",
       "\n",
       "     Reviews  Size    Installs  Type Price Content Rating           Genres  \\\n",
       "7053       5   17M      1,000+  Free     0       Everyone  Personalization   \n",
       "9886    1865   22M    100,000+  Free     0       Everyone   Travel & Local   \n",
       "7740    3247   26M    500,000+  Free     0           Teen           Action   \n",
       "7551     319  2.1M    100,000+  Free     0       Everyone     Productivity   \n",
       "6036    3347   15M    100,000+  Free     0       Everyone    Entertainment   \n",
       "7845     162  6.2M     10,000+  Free     0       Everyone        Education   \n",
       "8686     293  3.4M    100,000+  Free     0       Everyone  Personalization   \n",
       "7926       2  7.2M      1,000+  Free     0       Everyone          Finance   \n",
       "5697     617   46M    100,000+  Free     0       Everyone     Productivity   \n",
       "6344    6333   30M  1,000,000+  Free     0       Everyone    Entertainment   \n",
       "\n",
       "           Last Updated        Current Ver   Android Ver  \n",
       "7053      April 4, 2018               1.11    4.0 and up  \n",
       "9886      June 28, 2018        0.437592593    4.4 and up  \n",
       "7740      July 25, 2017               1.05    2.3 and up  \n",
       "7551    August 20, 2017            2.00.01  2.3.3 and up  \n",
       "6036      July 18, 2018          1.1.15.12    4.4 and up  \n",
       "7845  February 15, 2018  Y4W-GATE_CS-5.0.0    4.1 and up  \n",
       "8686     August 3, 2018                1.4  4.0.3 and up  \n",
       "7926      July 25, 2017            1.00.01    4.0 and up  \n",
       "5697     April 17, 2018            1.05.03    4.1 and up  \n",
       "6344       May 25, 2018            1.01.12    5.0 and up  "
      ]
     },
     "execution_count": 242,
     "metadata": {},
     "output_type": "execute_result"
    }
   ],
   "source": [
    "app_ori.sample(10)"
   ]
  },
  {
   "cell_type": "code",
   "execution_count": 243,
   "metadata": {
    "ExecuteTime": {
     "end_time": "2020-08-08T06:53:13.156369Z",
     "start_time": "2020-08-08T06:53:12.995736Z"
    }
   },
   "outputs": [
    {
     "name": "stdout",
     "output_type": "stream",
     "text": [
      "<class 'pandas.core.frame.DataFrame'>\n",
      "RangeIndex: 10841 entries, 0 to 10840\n",
      "Data columns (total 13 columns):\n",
      " #   Column          Non-Null Count  Dtype  \n",
      "---  ------          --------------  -----  \n",
      " 0   App             10841 non-null  object \n",
      " 1   Category        10841 non-null  object \n",
      " 2   Rating          9367 non-null   float64\n",
      " 3   Reviews         10841 non-null  object \n",
      " 4   Size            10841 non-null  object \n",
      " 5   Installs        10841 non-null  object \n",
      " 6   Type            10840 non-null  object \n",
      " 7   Price           10841 non-null  object \n",
      " 8   Content Rating  10840 non-null  object \n",
      " 9   Genres          10841 non-null  object \n",
      " 10  Last Updated    10841 non-null  object \n",
      " 11  Current Ver     10833 non-null  object \n",
      " 12  Android Ver     10838 non-null  object \n",
      "dtypes: float64(1), object(12)\n",
      "memory usage: 1.1+ MB\n"
     ]
    }
   ],
   "source": [
    "app_ori.info()"
   ]
  },
  {
   "cell_type": "markdown",
   "metadata": {},
   "source": [
    "* The Rating column has the highest number of null values and it is the only column of numeric Data Type.\n",
    "* 'Price', 'Content Rating', 'Current Ver' and 'Android Ver' have null values.\n",
    "* 'Size', 'Installs', 'Price', 'Last Updated', 'Current Ver' and 'Android Ver' attributes are to be cleaned to change them from Object data type"
   ]
  },
  {
   "cell_type": "code",
   "execution_count": 244,
   "metadata": {
    "ExecuteTime": {
     "end_time": "2020-08-08T06:53:13.307407Z",
     "start_time": "2020-08-08T06:53:13.158363Z"
    }
   },
   "outputs": [
    {
     "data": {
      "text/plain": [
       "App               9660\n",
       "Category            34\n",
       "Rating              40\n",
       "Reviews           6002\n",
       "Size               462\n",
       "Installs            22\n",
       "Type                 3\n",
       "Price               93\n",
       "Content Rating       6\n",
       "Genres             120\n",
       "Last Updated      1378\n",
       "Current Ver       2750\n",
       "Android Ver         33\n",
       "dtype: int64"
      ]
     },
     "execution_count": 244,
     "metadata": {},
     "output_type": "execute_result"
    }
   ],
   "source": [
    "app_ori.nunique()"
   ]
  },
  {
   "cell_type": "code",
   "execution_count": 245,
   "metadata": {
    "ExecuteTime": {
     "end_time": "2020-08-08T06:53:13.489340Z",
     "start_time": "2020-08-08T06:53:13.309403Z"
    }
   },
   "outputs": [
    {
     "data": {
      "text/html": [
       "<div>\n",
       "<style scoped>\n",
       "    .dataframe tbody tr th:only-of-type {\n",
       "        vertical-align: middle;\n",
       "    }\n",
       "\n",
       "    .dataframe tbody tr th {\n",
       "        vertical-align: top;\n",
       "    }\n",
       "\n",
       "    .dataframe thead th {\n",
       "        text-align: right;\n",
       "    }\n",
       "</style>\n",
       "<table border=\"1\" class=\"dataframe\">\n",
       "  <thead>\n",
       "    <tr style=\"text-align: right;\">\n",
       "      <th></th>\n",
       "      <th>count</th>\n",
       "      <th>unique</th>\n",
       "      <th>top</th>\n",
       "      <th>freq</th>\n",
       "      <th>mean</th>\n",
       "      <th>std</th>\n",
       "      <th>min</th>\n",
       "      <th>25%</th>\n",
       "      <th>50%</th>\n",
       "      <th>75%</th>\n",
       "      <th>max</th>\n",
       "    </tr>\n",
       "  </thead>\n",
       "  <tbody>\n",
       "    <tr>\n",
       "      <th>App</th>\n",
       "      <td>10841</td>\n",
       "      <td>9660</td>\n",
       "      <td>ROBLOX</td>\n",
       "      <td>9</td>\n",
       "      <td>NaN</td>\n",
       "      <td>NaN</td>\n",
       "      <td>NaN</td>\n",
       "      <td>NaN</td>\n",
       "      <td>NaN</td>\n",
       "      <td>NaN</td>\n",
       "      <td>NaN</td>\n",
       "    </tr>\n",
       "    <tr>\n",
       "      <th>Category</th>\n",
       "      <td>10841</td>\n",
       "      <td>34</td>\n",
       "      <td>FAMILY</td>\n",
       "      <td>1972</td>\n",
       "      <td>NaN</td>\n",
       "      <td>NaN</td>\n",
       "      <td>NaN</td>\n",
       "      <td>NaN</td>\n",
       "      <td>NaN</td>\n",
       "      <td>NaN</td>\n",
       "      <td>NaN</td>\n",
       "    </tr>\n",
       "    <tr>\n",
       "      <th>Rating</th>\n",
       "      <td>9367</td>\n",
       "      <td>NaN</td>\n",
       "      <td>NaN</td>\n",
       "      <td>NaN</td>\n",
       "      <td>4.19334</td>\n",
       "      <td>0.537431</td>\n",
       "      <td>1</td>\n",
       "      <td>4</td>\n",
       "      <td>4.3</td>\n",
       "      <td>4.5</td>\n",
       "      <td>19</td>\n",
       "    </tr>\n",
       "    <tr>\n",
       "      <th>Reviews</th>\n",
       "      <td>10841</td>\n",
       "      <td>6002</td>\n",
       "      <td>0</td>\n",
       "      <td>596</td>\n",
       "      <td>NaN</td>\n",
       "      <td>NaN</td>\n",
       "      <td>NaN</td>\n",
       "      <td>NaN</td>\n",
       "      <td>NaN</td>\n",
       "      <td>NaN</td>\n",
       "      <td>NaN</td>\n",
       "    </tr>\n",
       "    <tr>\n",
       "      <th>Size</th>\n",
       "      <td>10841</td>\n",
       "      <td>462</td>\n",
       "      <td>Varies with device</td>\n",
       "      <td>1695</td>\n",
       "      <td>NaN</td>\n",
       "      <td>NaN</td>\n",
       "      <td>NaN</td>\n",
       "      <td>NaN</td>\n",
       "      <td>NaN</td>\n",
       "      <td>NaN</td>\n",
       "      <td>NaN</td>\n",
       "    </tr>\n",
       "    <tr>\n",
       "      <th>Installs</th>\n",
       "      <td>10841</td>\n",
       "      <td>22</td>\n",
       "      <td>1,000,000+</td>\n",
       "      <td>1579</td>\n",
       "      <td>NaN</td>\n",
       "      <td>NaN</td>\n",
       "      <td>NaN</td>\n",
       "      <td>NaN</td>\n",
       "      <td>NaN</td>\n",
       "      <td>NaN</td>\n",
       "      <td>NaN</td>\n",
       "    </tr>\n",
       "    <tr>\n",
       "      <th>Type</th>\n",
       "      <td>10840</td>\n",
       "      <td>3</td>\n",
       "      <td>Free</td>\n",
       "      <td>10039</td>\n",
       "      <td>NaN</td>\n",
       "      <td>NaN</td>\n",
       "      <td>NaN</td>\n",
       "      <td>NaN</td>\n",
       "      <td>NaN</td>\n",
       "      <td>NaN</td>\n",
       "      <td>NaN</td>\n",
       "    </tr>\n",
       "    <tr>\n",
       "      <th>Price</th>\n",
       "      <td>10841</td>\n",
       "      <td>93</td>\n",
       "      <td>0</td>\n",
       "      <td>10040</td>\n",
       "      <td>NaN</td>\n",
       "      <td>NaN</td>\n",
       "      <td>NaN</td>\n",
       "      <td>NaN</td>\n",
       "      <td>NaN</td>\n",
       "      <td>NaN</td>\n",
       "      <td>NaN</td>\n",
       "    </tr>\n",
       "    <tr>\n",
       "      <th>Content Rating</th>\n",
       "      <td>10840</td>\n",
       "      <td>6</td>\n",
       "      <td>Everyone</td>\n",
       "      <td>8714</td>\n",
       "      <td>NaN</td>\n",
       "      <td>NaN</td>\n",
       "      <td>NaN</td>\n",
       "      <td>NaN</td>\n",
       "      <td>NaN</td>\n",
       "      <td>NaN</td>\n",
       "      <td>NaN</td>\n",
       "    </tr>\n",
       "    <tr>\n",
       "      <th>Genres</th>\n",
       "      <td>10841</td>\n",
       "      <td>120</td>\n",
       "      <td>Tools</td>\n",
       "      <td>842</td>\n",
       "      <td>NaN</td>\n",
       "      <td>NaN</td>\n",
       "      <td>NaN</td>\n",
       "      <td>NaN</td>\n",
       "      <td>NaN</td>\n",
       "      <td>NaN</td>\n",
       "      <td>NaN</td>\n",
       "    </tr>\n",
       "    <tr>\n",
       "      <th>Last Updated</th>\n",
       "      <td>10841</td>\n",
       "      <td>1378</td>\n",
       "      <td>August 3, 2018</td>\n",
       "      <td>326</td>\n",
       "      <td>NaN</td>\n",
       "      <td>NaN</td>\n",
       "      <td>NaN</td>\n",
       "      <td>NaN</td>\n",
       "      <td>NaN</td>\n",
       "      <td>NaN</td>\n",
       "      <td>NaN</td>\n",
       "    </tr>\n",
       "    <tr>\n",
       "      <th>Current Ver</th>\n",
       "      <td>10833</td>\n",
       "      <td>2750</td>\n",
       "      <td>Varies with device</td>\n",
       "      <td>1459</td>\n",
       "      <td>NaN</td>\n",
       "      <td>NaN</td>\n",
       "      <td>NaN</td>\n",
       "      <td>NaN</td>\n",
       "      <td>NaN</td>\n",
       "      <td>NaN</td>\n",
       "      <td>NaN</td>\n",
       "    </tr>\n",
       "    <tr>\n",
       "      <th>Android Ver</th>\n",
       "      <td>10838</td>\n",
       "      <td>33</td>\n",
       "      <td>4.1 and up</td>\n",
       "      <td>2451</td>\n",
       "      <td>NaN</td>\n",
       "      <td>NaN</td>\n",
       "      <td>NaN</td>\n",
       "      <td>NaN</td>\n",
       "      <td>NaN</td>\n",
       "      <td>NaN</td>\n",
       "      <td>NaN</td>\n",
       "    </tr>\n",
       "  </tbody>\n",
       "</table>\n",
       "</div>"
      ],
      "text/plain": [
       "                count unique                 top   freq     mean       std  \\\n",
       "App             10841   9660              ROBLOX      9      NaN       NaN   \n",
       "Category        10841     34              FAMILY   1972      NaN       NaN   \n",
       "Rating           9367    NaN                 NaN    NaN  4.19334  0.537431   \n",
       "Reviews         10841   6002                   0    596      NaN       NaN   \n",
       "Size            10841    462  Varies with device   1695      NaN       NaN   \n",
       "Installs        10841     22          1,000,000+   1579      NaN       NaN   \n",
       "Type            10840      3                Free  10039      NaN       NaN   \n",
       "Price           10841     93                   0  10040      NaN       NaN   \n",
       "Content Rating  10840      6            Everyone   8714      NaN       NaN   \n",
       "Genres          10841    120               Tools    842      NaN       NaN   \n",
       "Last Updated    10841   1378      August 3, 2018    326      NaN       NaN   \n",
       "Current Ver     10833   2750  Varies with device   1459      NaN       NaN   \n",
       "Android Ver     10838     33          4.1 and up   2451      NaN       NaN   \n",
       "\n",
       "                min  25%  50%  75%  max  \n",
       "App             NaN  NaN  NaN  NaN  NaN  \n",
       "Category        NaN  NaN  NaN  NaN  NaN  \n",
       "Rating            1    4  4.3  4.5   19  \n",
       "Reviews         NaN  NaN  NaN  NaN  NaN  \n",
       "Size            NaN  NaN  NaN  NaN  NaN  \n",
       "Installs        NaN  NaN  NaN  NaN  NaN  \n",
       "Type            NaN  NaN  NaN  NaN  NaN  \n",
       "Price           NaN  NaN  NaN  NaN  NaN  \n",
       "Content Rating  NaN  NaN  NaN  NaN  NaN  \n",
       "Genres          NaN  NaN  NaN  NaN  NaN  \n",
       "Last Updated    NaN  NaN  NaN  NaN  NaN  \n",
       "Current Ver     NaN  NaN  NaN  NaN  NaN  \n",
       "Android Ver     NaN  NaN  NaN  NaN  NaN  "
      ]
     },
     "execution_count": 245,
     "metadata": {},
     "output_type": "execute_result"
    }
   ],
   "source": [
    "app_ori.describe(include='all').T"
   ]
  },
  {
   "cell_type": "markdown",
   "metadata": {},
   "source": [
    "# DATA PREPROCESSING"
   ]
  },
  {
   "cell_type": "code",
   "execution_count": 246,
   "metadata": {
    "ExecuteTime": {
     "end_time": "2020-08-08T06:53:13.598372Z",
     "start_time": "2020-08-08T06:53:13.491297Z"
    }
   },
   "outputs": [],
   "source": [
    "app_clean = app_ori.copy()\n",
    "app_clean = app_clean.drop_duplicates(['App'])"
   ]
  },
  {
   "cell_type": "code",
   "execution_count": 247,
   "metadata": {
    "ExecuteTime": {
     "end_time": "2020-08-08T06:53:13.749071Z",
     "start_time": "2020-08-08T06:53:13.600370Z"
    }
   },
   "outputs": [
    {
     "data": {
      "text/plain": [
       "array(['159', '967', '87510', ..., '603', '1195', '398307'], dtype=object)"
      ]
     },
     "execution_count": 247,
     "metadata": {},
     "output_type": "execute_result"
    }
   ],
   "source": [
    "app_clean['Reviews'].unique()"
   ]
  },
  {
   "cell_type": "code",
   "execution_count": 248,
   "metadata": {
    "ExecuteTime": {
     "end_time": "2020-08-08T06:53:13.870854Z",
     "start_time": "2020-08-08T06:53:13.751065Z"
    }
   },
   "outputs": [],
   "source": [
    "app_clean['Reviews'].replace('3.0M', 3000000, inplace=True)"
   ]
  },
  {
   "cell_type": "code",
   "execution_count": 249,
   "metadata": {
    "ExecuteTime": {
     "end_time": "2020-08-08T06:53:14.004674Z",
     "start_time": "2020-08-08T06:53:13.872424Z"
    }
   },
   "outputs": [
    {
     "data": {
      "text/plain": [
       "array(['Free', 'Paid', nan, '0'], dtype=object)"
      ]
     },
     "execution_count": 249,
     "metadata": {},
     "output_type": "execute_result"
    }
   ],
   "source": [
    "app_clean['Type'].unique()"
   ]
  },
  {
   "cell_type": "code",
   "execution_count": 250,
   "metadata": {
    "ExecuteTime": {
     "end_time": "2020-08-08T06:53:14.136781Z",
     "start_time": "2020-08-08T06:53:14.005671Z"
    }
   },
   "outputs": [],
   "source": [
    "app_clean['Type'] = app_clean['Type'].replace('NaN', np.nan)\n",
    "app_clean['Type'] = app_clean['Type'].replace('0', 'Free')"
   ]
  },
  {
   "cell_type": "code",
   "execution_count": 251,
   "metadata": {
    "ExecuteTime": {
     "end_time": "2020-08-08T06:53:14.281925Z",
     "start_time": "2020-08-08T06:53:14.138774Z"
    }
   },
   "outputs": [
    {
     "data": {
      "text/plain": [
       "array(['0', '$4.99', '$3.99', '$6.99', '$1.49', '$2.99', '$7.99', '$5.99',\n",
       "       '$3.49', '$1.99', '$9.99', '$7.49', '$0.99', '$9.00', '$5.49',\n",
       "       '$10.00', '$24.99', '$11.99', '$79.99', '$16.99', '$14.99',\n",
       "       '$1.00', '$29.99', '$12.99', '$2.49', '$10.99', '$1.50', '$19.99',\n",
       "       '$15.99', '$33.99', '$74.99', '$39.99', '$3.95', '$4.49', '$1.70',\n",
       "       '$8.99', '$2.00', '$3.88', '$25.99', '$399.99', '$17.99',\n",
       "       '$400.00', '$3.02', '$1.76', '$4.84', '$4.77', '$1.61', '$2.50',\n",
       "       '$1.59', '$6.49', '$1.29', '$5.00', '$13.99', '$299.99', '$379.99',\n",
       "       '$37.99', '$18.99', '$389.99', '$19.90', '$8.49', '$1.75',\n",
       "       '$14.00', '$4.85', '$46.99', '$109.99', '$154.99', '$3.08',\n",
       "       '$2.59', '$4.80', '$1.96', '$19.40', '$3.90', '$4.59', '$15.46',\n",
       "       '$3.04', '$4.29', '$2.60', '$3.28', '$4.60', '$28.99', '$2.95',\n",
       "       '$2.90', '$1.97', '$200.00', '$89.99', '$2.56', '$30.99', '$3.61',\n",
       "       '$394.99', '$1.26', 'Everyone', '$1.20', '$1.04'], dtype=object)"
      ]
     },
     "execution_count": 251,
     "metadata": {},
     "output_type": "execute_result"
    }
   ],
   "source": [
    "app_clean['Price'].unique()"
   ]
  },
  {
   "cell_type": "code",
   "execution_count": 252,
   "metadata": {
    "ExecuteTime": {
     "end_time": "2020-08-08T06:53:14.437981Z",
     "start_time": "2020-08-08T06:53:14.283919Z"
    }
   },
   "outputs": [],
   "source": [
    "app_clean['Price'] = app_clean['Price'].str.replace('$', '')"
   ]
  },
  {
   "cell_type": "code",
   "execution_count": 253,
   "metadata": {
    "ExecuteTime": {
     "end_time": "2020-08-08T06:53:14.583187Z",
     "start_time": "2020-08-08T06:53:14.438933Z"
    }
   },
   "outputs": [
    {
     "data": {
      "text/plain": [
       "FAMILY                 1832\n",
       "GAME                    959\n",
       "TOOLS                   827\n",
       "BUSINESS                420\n",
       "MEDICAL                 395\n",
       "PERSONALIZATION         376\n",
       "PRODUCTIVITY            374\n",
       "LIFESTYLE               369\n",
       "FINANCE                 345\n",
       "SPORTS                  325\n",
       "COMMUNICATION           315\n",
       "HEALTH_AND_FITNESS      288\n",
       "PHOTOGRAPHY             281\n",
       "NEWS_AND_MAGAZINES      254\n",
       "SOCIAL                  239\n",
       "BOOKS_AND_REFERENCE     222\n",
       "TRAVEL_AND_LOCAL        219\n",
       "SHOPPING                202\n",
       "DATING                  171\n",
       "VIDEO_PLAYERS           163\n",
       "MAPS_AND_NAVIGATION     131\n",
       "EDUCATION               119\n",
       "FOOD_AND_DRINK          112\n",
       "ENTERTAINMENT           102\n",
       "AUTO_AND_VEHICLES        85\n",
       "LIBRARIES_AND_DEMO       84\n",
       "WEATHER                  79\n",
       "HOUSE_AND_HOME           74\n",
       "ART_AND_DESIGN           64\n",
       "EVENTS                   64\n",
       "PARENTING                60\n",
       "COMICS                   56\n",
       "BEAUTY                   53\n",
       "1.9                       1\n",
       "Name: Category, dtype: int64"
      ]
     },
     "execution_count": 253,
     "metadata": {},
     "output_type": "execute_result"
    }
   ],
   "source": [
    "app_clean['Category'].value_counts()"
   ]
  },
  {
   "cell_type": "code",
   "execution_count": 254,
   "metadata": {
    "ExecuteTime": {
     "end_time": "2020-08-08T06:53:14.680743Z",
     "start_time": "2020-08-08T06:53:14.585181Z"
    }
   },
   "outputs": [],
   "source": [
    "app_clean.Category.replace('1.9' , 'FAMILY', inplace = True)"
   ]
  },
  {
   "cell_type": "code",
   "execution_count": 255,
   "metadata": {
    "ExecuteTime": {
     "end_time": "2020-08-08T06:53:14.781272Z",
     "start_time": "2020-08-08T06:53:14.682738Z"
    }
   },
   "outputs": [
    {
     "data": {
      "text/plain": [
       "10745                  5.8M\n",
       "3163     Varies with device\n",
       "10481                   43M\n",
       "1688                    78M\n",
       "573                     28M\n",
       "5602     Varies with device\n",
       "2855                   4.2M\n",
       "3372     Varies with device\n",
       "6415                    40M\n",
       "1394                    18M\n",
       "Name: Size, dtype: object"
      ]
     },
     "execution_count": 255,
     "metadata": {},
     "output_type": "execute_result"
    }
   ],
   "source": [
    "app_clean['Size'].sample(10)"
   ]
  },
  {
   "cell_type": "code",
   "execution_count": 256,
   "metadata": {
    "ExecuteTime": {
     "end_time": "2020-08-08T06:53:14.930567Z",
     "start_time": "2020-08-08T06:53:14.783261Z"
    }
   },
   "outputs": [],
   "source": [
    "app_1 = app_clean.copy()\n",
    "app_clean['Size'] = app_clean['Size'].str.replace('M','')\n",
    "app_clean['Size'] = app_clean['Size'].str.replace('k','')\n",
    "app_1['Size'].replace(['Varies with device','FAILY'], np.nan, inplace =True)\n",
    "app_clean['Size'].replace(['Varies with device','FAILY'], np.nan, inplace =True)\n",
    "app_clean['Size'] = pd.to_numeric(app_clean['Size'], errors='coerce')\n"
   ]
  },
  {
   "cell_type": "code",
   "execution_count": 293,
   "metadata": {
    "ExecuteTime": {
     "end_time": "2020-08-08T06:57:58.151558Z",
     "start_time": "2020-08-08T06:57:58.077137Z"
    }
   },
   "outputs": [],
   "source": [
    "# Converting all the  M (mb) sizes to k (kb).\n",
    "indx = [app_1['Size'].str.find('M')>0]\n",
    "for i in indx:\n",
    "    app_clean.loc[i, 'Size'] = app_clean.loc[i, 'Size']*1024"
   ]
  },
  {
   "cell_type": "code",
   "execution_count": 258,
   "metadata": {
    "ExecuteTime": {
     "end_time": "2020-08-08T06:53:15.314645Z",
     "start_time": "2020-08-08T06:53:15.070146Z"
    }
   },
   "outputs": [
    {
     "data": {
      "text/plain": [
       "array(['10,000+', '500,000+', '5,000,000+', '50,000,000+', '100,000+',\n",
       "       '50,000+', '1,000,000+', '10,000,000+', '5,000+', '100,000,000+',\n",
       "       '1,000,000,000+', '1,000+', '500,000,000+', '50+', '100+', '500+',\n",
       "       '10+', '1+', '5+', '0+', '0', 'Free'], dtype=object)"
      ]
     },
     "execution_count": 258,
     "metadata": {},
     "output_type": "execute_result"
    }
   ],
   "source": [
    "app_clean['Installs'].unique()"
   ]
  },
  {
   "cell_type": "code",
   "execution_count": 259,
   "metadata": {
    "ExecuteTime": {
     "end_time": "2020-08-08T06:53:15.560739Z",
     "start_time": "2020-08-08T06:53:15.316597Z"
    },
    "scrolled": true
   },
   "outputs": [],
   "source": [
    "app_clean['Installs'] = app_clean['Installs'].str.replace(',', '')\n",
    "app_clean['Installs'] = app_clean['Installs'].str.replace('+', '')\n",
    "app_clean['Installs'] = pd.to_numeric(app_clean['Installs'] , errors='coerce')"
   ]
  },
  {
   "cell_type": "code",
   "execution_count": 260,
   "metadata": {
    "ExecuteTime": {
     "end_time": "2020-08-08T06:53:15.672437Z",
     "start_time": "2020-08-08T06:53:15.563325Z"
    }
   },
   "outputs": [
    {
     "data": {
      "text/plain": [
       "array(['Everyone', 'Teen', 'Everyone 10+', 'Mature 17+',\n",
       "       'Adults only 18+', 'Unrated', nan], dtype=object)"
      ]
     },
     "execution_count": 260,
     "metadata": {},
     "output_type": "execute_result"
    }
   ],
   "source": [
    "app_clean['Content Rating'].unique()"
   ]
  },
  {
   "cell_type": "code",
   "execution_count": 261,
   "metadata": {
    "ExecuteTime": {
     "end_time": "2020-08-08T06:53:15.781351Z",
     "start_time": "2020-08-08T06:53:15.673436Z"
    }
   },
   "outputs": [
    {
     "data": {
      "text/plain": [
       "array(['Art & Design', 'Art & Design;Pretend Play',\n",
       "       'Art & Design;Creativity', 'Art & Design;Action & Adventure',\n",
       "       'Auto & Vehicles', 'Beauty', 'Books & Reference', 'Business',\n",
       "       'Comics', 'Comics;Creativity', 'Communication', 'Dating',\n",
       "       'Education;Education', 'Education', 'Education;Creativity',\n",
       "       'Education;Music & Video', 'Education;Action & Adventure',\n",
       "       'Education;Pretend Play', 'Education;Brain Games', 'Entertainment',\n",
       "       'Entertainment;Music & Video', 'Entertainment;Brain Games',\n",
       "       'Entertainment;Creativity', 'Events', 'Finance', 'Food & Drink',\n",
       "       'Health & Fitness', 'House & Home', 'Libraries & Demo',\n",
       "       'Lifestyle', 'Lifestyle;Pretend Play',\n",
       "       'Adventure;Action & Adventure', 'Arcade', 'Casual', 'Card',\n",
       "       'Casual;Pretend Play', 'Action', 'Strategy', 'Puzzle', 'Sports',\n",
       "       'Music', 'Word', 'Racing', 'Casual;Creativity',\n",
       "       'Casual;Action & Adventure', 'Simulation', 'Adventure', 'Board',\n",
       "       'Trivia', 'Role Playing', 'Simulation;Education',\n",
       "       'Action;Action & Adventure', 'Casual;Brain Games',\n",
       "       'Simulation;Action & Adventure', 'Educational;Creativity',\n",
       "       'Puzzle;Brain Games', 'Educational;Education',\n",
       "       'Educational;Brain Games', 'Educational;Pretend Play',\n",
       "       'Entertainment;Education', 'Casual;Education',\n",
       "       'Music;Music & Video', 'Racing;Action & Adventure',\n",
       "       'Arcade;Pretend Play', 'Role Playing;Action & Adventure',\n",
       "       'Simulation;Pretend Play', 'Puzzle;Creativity',\n",
       "       'Sports;Action & Adventure', 'Educational;Action & Adventure',\n",
       "       'Arcade;Action & Adventure', 'Entertainment;Action & Adventure',\n",
       "       'Puzzle;Action & Adventure', 'Strategy;Action & Adventure',\n",
       "       'Music & Audio;Music & Video', 'Health & Fitness;Education',\n",
       "       'Adventure;Education', 'Board;Brain Games',\n",
       "       'Board;Action & Adventure', 'Board;Pretend Play',\n",
       "       'Casual;Music & Video', 'Role Playing;Pretend Play',\n",
       "       'Entertainment;Pretend Play', 'Video Players & Editors;Creativity',\n",
       "       'Card;Action & Adventure', 'Medical', 'Social', 'Shopping',\n",
       "       'Photography', 'Travel & Local',\n",
       "       'Travel & Local;Action & Adventure', 'Tools', 'Tools;Education',\n",
       "       'Personalization', 'Productivity', 'Parenting',\n",
       "       'Parenting;Music & Video', 'Parenting;Education',\n",
       "       'Parenting;Brain Games', 'Weather', 'Video Players & Editors',\n",
       "       'Video Players & Editors;Music & Video', 'News & Magazines',\n",
       "       'Maps & Navigation', 'Health & Fitness;Action & Adventure',\n",
       "       'Educational', 'Casino', 'Adventure;Brain Games',\n",
       "       'Trivia;Education', 'Lifestyle;Education',\n",
       "       'Books & Reference;Creativity', 'Books & Reference;Education',\n",
       "       'Puzzle;Education', 'Role Playing;Education',\n",
       "       'Role Playing;Brain Games', 'Strategy;Education',\n",
       "       'Racing;Pretend Play', 'Communication;Creativity',\n",
       "       'February 11, 2018', 'Strategy;Creativity'], dtype=object)"
      ]
     },
     "execution_count": 261,
     "metadata": {},
     "output_type": "execute_result"
    }
   ],
   "source": [
    "app_clean['Genres'].unique()"
   ]
  },
  {
   "cell_type": "code",
   "execution_count": 262,
   "metadata": {
    "ExecuteTime": {
     "end_time": "2020-08-08T06:53:15.901782Z",
     "start_time": "2020-08-08T06:53:15.783345Z"
    }
   },
   "outputs": [],
   "source": [
    "app_clean['Genres'].replace('Februaru 11, 2018', np.nan, inplace = True)"
   ]
  },
  {
   "cell_type": "code",
   "execution_count": 263,
   "metadata": {
    "ExecuteTime": {
     "end_time": "2020-08-08T06:53:16.015389Z",
     "start_time": "2020-08-08T06:53:15.903777Z"
    }
   },
   "outputs": [
    {
     "data": {
      "text/plain": [
       "9347        March 30, 2017\n",
       "3891     December 30, 2017\n",
       "3487         June 18, 2018\n",
       "4297           May 8, 2017\n",
       "1580         June 30, 2016\n",
       "10058      August 28, 2014\n",
       "3666         July 25, 2018\n",
       "9401          May 24, 2018\n",
       "4930        August 1, 2018\n",
       "6455         July 12, 2018\n",
       "Name: Last Updated, dtype: object"
      ]
     },
     "execution_count": 263,
     "metadata": {},
     "output_type": "execute_result"
    }
   ],
   "source": [
    "app_clean['Last Updated'].sample(10)"
   ]
  },
  {
   "cell_type": "code",
   "execution_count": 264,
   "metadata": {
    "ExecuteTime": {
     "end_time": "2020-08-08T06:53:16.136032Z",
     "start_time": "2020-08-08T06:53:16.017340Z"
    }
   },
   "outputs": [],
   "source": [
    "app_clean['Last Updated'].replace('1.00.19', np.nan, inplace = True)"
   ]
  },
  {
   "cell_type": "code",
   "execution_count": 265,
   "metadata": {
    "ExecuteTime": {
     "end_time": "2020-08-08T06:53:16.270954Z",
     "start_time": "2020-08-08T06:53:16.137941Z"
    }
   },
   "outputs": [],
   "source": [
    "# Cleaning the Last Updated column.\n",
    "app_clean['Last Updated'] = app_clean['Last Updated'].astype('str')\n",
    "app_clean['Updated Year'] = [d.split(',')[-1] for d in app_clean['Last Updated']]\n",
    "app_clean['x'] = [d.split(',')[0] for d in app_clean['Last Updated']]\n",
    "app_clean['Updated Month'] =  [d.split(' ')[0] for d in app_clean['x']]\n",
    "app_clean['Updated Date'] =  [d.split(' ')[-1] for d in app_clean['x']]\n",
    "app_clean.drop(['x','Last Updated'], axis=1, inplace=True)"
   ]
  },
  {
   "cell_type": "code",
   "execution_count": 266,
   "metadata": {
    "ExecuteTime": {
     "end_time": "2020-08-08T06:53:16.402597Z",
     "start_time": "2020-08-08T06:53:16.272760Z"
    }
   },
   "outputs": [],
   "source": [
    "# Converting to numeric Data Type.\n",
    "app_clean['Price'] = pd.to_numeric(app_clean['Price'], errors='coerce')\n",
    "app_clean['Reviews'] = pd.to_numeric(app_clean['Reviews'], errors='coerce')\n",
    "app_clean['Updated Year'] = pd.to_numeric(app_clean['Updated Year'], errors='coerce')\n",
    "app_clean['Updated Date'] = pd.to_numeric(app_clean['Updated Date'], errors='coerce')"
   ]
  },
  {
   "cell_type": "code",
   "execution_count": 267,
   "metadata": {
    "ExecuteTime": {
     "end_time": "2020-08-08T06:53:16.528220Z",
     "start_time": "2020-08-08T06:53:16.404223Z"
    }
   },
   "outputs": [
    {
     "data": {
      "text/html": [
       "<div>\n",
       "<style scoped>\n",
       "    .dataframe tbody tr th:only-of-type {\n",
       "        vertical-align: middle;\n",
       "    }\n",
       "\n",
       "    .dataframe tbody tr th {\n",
       "        vertical-align: top;\n",
       "    }\n",
       "\n",
       "    .dataframe thead th {\n",
       "        text-align: right;\n",
       "    }\n",
       "</style>\n",
       "<table border=\"1\" class=\"dataframe\">\n",
       "  <thead>\n",
       "    <tr style=\"text-align: right;\">\n",
       "      <th></th>\n",
       "      <th>App</th>\n",
       "      <th>Category</th>\n",
       "      <th>Rating</th>\n",
       "      <th>Reviews</th>\n",
       "      <th>Size</th>\n",
       "      <th>Installs</th>\n",
       "      <th>Type</th>\n",
       "      <th>Price</th>\n",
       "      <th>Content Rating</th>\n",
       "      <th>Genres</th>\n",
       "      <th>Current Ver</th>\n",
       "      <th>Android Ver</th>\n",
       "      <th>Updated Year</th>\n",
       "      <th>Updated Month</th>\n",
       "      <th>Updated Date</th>\n",
       "    </tr>\n",
       "  </thead>\n",
       "  <tbody>\n",
       "    <tr>\n",
       "      <th>335</th>\n",
       "      <td>Messenger – Text and Video Chat for Free</td>\n",
       "      <td>COMMUNICATION</td>\n",
       "      <td>4.0</td>\n",
       "      <td>56642847</td>\n",
       "      <td>NaN</td>\n",
       "      <td>1.000000e+09</td>\n",
       "      <td>Free</td>\n",
       "      <td>0.0</td>\n",
       "      <td>Everyone</td>\n",
       "      <td>Communication</td>\n",
       "      <td>Varies with device</td>\n",
       "      <td>Varies with device</td>\n",
       "      <td>2018.0</td>\n",
       "      <td>August</td>\n",
       "      <td>1.0</td>\n",
       "    </tr>\n",
       "    <tr>\n",
       "      <th>336</th>\n",
       "      <td>WhatsApp Messenger</td>\n",
       "      <td>COMMUNICATION</td>\n",
       "      <td>4.4</td>\n",
       "      <td>69119316</td>\n",
       "      <td>NaN</td>\n",
       "      <td>1.000000e+09</td>\n",
       "      <td>Free</td>\n",
       "      <td>0.0</td>\n",
       "      <td>Everyone</td>\n",
       "      <td>Communication</td>\n",
       "      <td>Varies with device</td>\n",
       "      <td>Varies with device</td>\n",
       "      <td>2018.0</td>\n",
       "      <td>August</td>\n",
       "      <td>3.0</td>\n",
       "    </tr>\n",
       "    <tr>\n",
       "      <th>338</th>\n",
       "      <td>Google Chrome: Fast &amp; Secure</td>\n",
       "      <td>COMMUNICATION</td>\n",
       "      <td>4.3</td>\n",
       "      <td>9642995</td>\n",
       "      <td>NaN</td>\n",
       "      <td>1.000000e+09</td>\n",
       "      <td>Free</td>\n",
       "      <td>0.0</td>\n",
       "      <td>Everyone</td>\n",
       "      <td>Communication</td>\n",
       "      <td>Varies with device</td>\n",
       "      <td>Varies with device</td>\n",
       "      <td>2018.0</td>\n",
       "      <td>August</td>\n",
       "      <td>1.0</td>\n",
       "    </tr>\n",
       "    <tr>\n",
       "      <th>342</th>\n",
       "      <td>Viber Messenger</td>\n",
       "      <td>COMMUNICATION</td>\n",
       "      <td>4.3</td>\n",
       "      <td>11334799</td>\n",
       "      <td>NaN</td>\n",
       "      <td>5.000000e+08</td>\n",
       "      <td>Free</td>\n",
       "      <td>0.0</td>\n",
       "      <td>Everyone</td>\n",
       "      <td>Communication</td>\n",
       "      <td>Varies with device</td>\n",
       "      <td>Varies with device</td>\n",
       "      <td>2018.0</td>\n",
       "      <td>July</td>\n",
       "      <td>18.0</td>\n",
       "    </tr>\n",
       "    <tr>\n",
       "      <th>351</th>\n",
       "      <td>Opera Mini - fast web browser</td>\n",
       "      <td>COMMUNICATION</td>\n",
       "      <td>4.5</td>\n",
       "      <td>5149854</td>\n",
       "      <td>NaN</td>\n",
       "      <td>1.000000e+08</td>\n",
       "      <td>Free</td>\n",
       "      <td>0.0</td>\n",
       "      <td>Everyone</td>\n",
       "      <td>Communication</td>\n",
       "      <td>Varies with device</td>\n",
       "      <td>Varies with device</td>\n",
       "      <td>2018.0</td>\n",
       "      <td>July</td>\n",
       "      <td>19.0</td>\n",
       "    </tr>\n",
       "  </tbody>\n",
       "</table>\n",
       "</div>"
      ],
      "text/plain": [
       "                                          App       Category  Rating  \\\n",
       "335  Messenger – Text and Video Chat for Free  COMMUNICATION     4.0   \n",
       "336                        WhatsApp Messenger  COMMUNICATION     4.4   \n",
       "338              Google Chrome: Fast & Secure  COMMUNICATION     4.3   \n",
       "342                           Viber Messenger  COMMUNICATION     4.3   \n",
       "351             Opera Mini - fast web browser  COMMUNICATION     4.5   \n",
       "\n",
       "      Reviews  Size      Installs  Type  Price Content Rating         Genres  \\\n",
       "335  56642847   NaN  1.000000e+09  Free    0.0       Everyone  Communication   \n",
       "336  69119316   NaN  1.000000e+09  Free    0.0       Everyone  Communication   \n",
       "338   9642995   NaN  1.000000e+09  Free    0.0       Everyone  Communication   \n",
       "342  11334799   NaN  5.000000e+08  Free    0.0       Everyone  Communication   \n",
       "351   5149854   NaN  1.000000e+08  Free    0.0       Everyone  Communication   \n",
       "\n",
       "            Current Ver         Android Ver  Updated Year Updated Month  \\\n",
       "335  Varies with device  Varies with device        2018.0        August   \n",
       "336  Varies with device  Varies with device        2018.0        August   \n",
       "338  Varies with device  Varies with device        2018.0        August   \n",
       "342  Varies with device  Varies with device        2018.0          July   \n",
       "351  Varies with device  Varies with device        2018.0          July   \n",
       "\n",
       "     Updated Date  \n",
       "335           1.0  \n",
       "336           3.0  \n",
       "338           1.0  \n",
       "342          18.0  \n",
       "351          19.0  "
      ]
     },
     "execution_count": 267,
     "metadata": {},
     "output_type": "execute_result"
    }
   ],
   "source": [
    "# Top 5 Apps with highest Number of Reviews.\n",
    "app_clean[app_clean['Reviews']>5000000].head(5)"
   ]
  },
  {
   "cell_type": "code",
   "execution_count": 268,
   "metadata": {
    "ExecuteTime": {
     "end_time": "2020-08-08T06:53:16.693274Z",
     "start_time": "2020-08-08T06:53:16.530180Z"
    }
   },
   "outputs": [],
   "source": [
    "# Dropping Unwanted Columns.\n",
    "app_clean.drop(['App', 'Genres', 'Current Ver', 'Android Ver', 'Content Rating', 'Updated Month', 'Updated Date'], axis=1, inplace=True)"
   ]
  },
  {
   "cell_type": "code",
   "execution_count": 269,
   "metadata": {
    "ExecuteTime": {
     "end_time": "2020-08-08T06:53:16.814278Z",
     "start_time": "2020-08-08T06:53:16.695008Z"
    }
   },
   "outputs": [],
   "source": [
    "# filling NaNs in Numerical Data.\n",
    "l = ['Size', 'Updated Year']\n",
    "for i in l:\n",
    "    app_clean[i] = app_clean[i].fillna(app_clean[i].median())"
   ]
  },
  {
   "cell_type": "code",
   "execution_count": 270,
   "metadata": {
    "ExecuteTime": {
     "end_time": "2020-08-08T06:53:16.938896Z",
     "start_time": "2020-08-08T06:53:16.816181Z"
    }
   },
   "outputs": [
    {
     "data": {
      "text/plain": [
       "FAMILY    1833\n",
       "Name: Category, dtype: int64"
      ]
     },
     "execution_count": 270,
     "metadata": {},
     "output_type": "execute_result"
    }
   ],
   "source": [
    "#Category with highest number of apps\n",
    "app_clean['Category'].value_counts().head(1)"
   ]
  },
  {
   "cell_type": "markdown",
   "metadata": {},
   "source": [
    "* Category 'Family' has the highest number of apps (1608). "
   ]
  },
  {
   "cell_type": "code",
   "execution_count": 271,
   "metadata": {
    "ExecuteTime": {
     "end_time": "2020-08-08T06:53:17.106643Z",
     "start_time": "2020-08-08T06:53:16.939894Z"
    }
   },
   "outputs": [],
   "source": [
    "# Dropping Unwanted Rows of Rating column.\n",
    "app_clean.dropna(axis=0, inplace=True, subset=['Rating'])"
   ]
  },
  {
   "cell_type": "code",
   "execution_count": 272,
   "metadata": {
    "ExecuteTime": {
     "end_time": "2020-08-08T06:53:20.056978Z",
     "start_time": "2020-08-08T06:53:17.108625Z"
    }
   },
   "outputs": [],
   "source": [
    "# Creating Rating_cat column.\n",
    "indx = 0\n",
    "app_clean['Rating_cat'] = np.zeros((app_clean.shape[0],1))\n",
    "for i in app_clean['Rating']:\n",
    "    if i > 3.5:\n",
    "        app_clean.iloc[indx, -1] = 'High'\n",
    "    else:\n",
    "        app_clean.iloc[indx, -1] = 'Low'\n",
    "    indx = indx + 1"
   ]
  },
  {
   "cell_type": "code",
   "execution_count": 273,
   "metadata": {
    "ExecuteTime": {
     "end_time": "2020-08-08T06:53:20.083841Z",
     "start_time": "2020-08-08T06:53:20.058906Z"
    }
   },
   "outputs": [
    {
     "data": {
      "text/html": [
       "<div>\n",
       "<style scoped>\n",
       "    .dataframe tbody tr th:only-of-type {\n",
       "        vertical-align: middle;\n",
       "    }\n",
       "\n",
       "    .dataframe tbody tr th {\n",
       "        vertical-align: top;\n",
       "    }\n",
       "\n",
       "    .dataframe thead th {\n",
       "        text-align: right;\n",
       "    }\n",
       "</style>\n",
       "<table border=\"1\" class=\"dataframe\">\n",
       "  <thead>\n",
       "    <tr style=\"text-align: right;\">\n",
       "      <th></th>\n",
       "      <th>Category</th>\n",
       "      <th>Rating</th>\n",
       "      <th>Reviews</th>\n",
       "      <th>Size</th>\n",
       "      <th>Installs</th>\n",
       "      <th>Type</th>\n",
       "      <th>Price</th>\n",
       "      <th>Updated Year</th>\n",
       "      <th>Rating_cat</th>\n",
       "    </tr>\n",
       "  </thead>\n",
       "  <tbody>\n",
       "    <tr>\n",
       "      <th>4367</th>\n",
       "      <td>LIFESTYLE</td>\n",
       "      <td>3.6</td>\n",
       "      <td>275</td>\n",
       "      <td>7475.2</td>\n",
       "      <td>10000.0</td>\n",
       "      <td>Paid</td>\n",
       "      <td>400.0</td>\n",
       "      <td>2018.0</td>\n",
       "      <td>High</td>\n",
       "    </tr>\n",
       "  </tbody>\n",
       "</table>\n",
       "</div>"
      ],
      "text/plain": [
       "       Category  Rating  Reviews    Size  Installs  Type  Price  Updated Year  \\\n",
       "4367  LIFESTYLE     3.6      275  7475.2   10000.0  Paid  400.0        2018.0   \n",
       "\n",
       "     Rating_cat  \n",
       "4367       High  "
      ]
     },
     "execution_count": 273,
     "metadata": {},
     "output_type": "execute_result"
    }
   ],
   "source": [
    "# App with the highest Price. \n",
    "app_clean[app_clean['Price'] == max(app_clean['Price'])]"
   ]
  },
  {
   "cell_type": "code",
   "execution_count": 274,
   "metadata": {
    "ExecuteTime": {
     "end_time": "2020-08-08T06:53:20.238460Z",
     "start_time": "2020-08-08T06:53:20.085835Z"
    }
   },
   "outputs": [],
   "source": [
    "# Dropping Unwanted Rows\n",
    "app_clean.dropna(axis=0, inplace=True)"
   ]
  },
  {
   "cell_type": "code",
   "execution_count": 275,
   "metadata": {
    "ExecuteTime": {
     "end_time": "2020-08-08T06:53:20.362100Z",
     "start_time": "2020-08-08T06:53:20.239984Z"
    }
   },
   "outputs": [
    {
     "name": "stdout",
     "output_type": "stream",
     "text": [
      "<class 'pandas.core.frame.DataFrame'>\n",
      "Int64Index: 8196 entries, 0 to 10840\n",
      "Data columns (total 9 columns):\n",
      " #   Column        Non-Null Count  Dtype  \n",
      "---  ------        --------------  -----  \n",
      " 0   Category      8196 non-null   object \n",
      " 1   Rating        8196 non-null   float64\n",
      " 2   Reviews       8196 non-null   int64  \n",
      " 3   Size          8196 non-null   float64\n",
      " 4   Installs      8196 non-null   float64\n",
      " 5   Type          8196 non-null   object \n",
      " 6   Price         8196 non-null   float64\n",
      " 7   Updated Year  8196 non-null   float64\n",
      " 8   Rating_cat    8196 non-null   object \n",
      "dtypes: float64(5), int64(1), object(3)\n",
      "memory usage: 640.3+ KB\n"
     ]
    }
   ],
   "source": [
    "app_clean.info()"
   ]
  },
  {
   "cell_type": "code",
   "execution_count": 276,
   "metadata": {
    "ExecuteTime": {
     "end_time": "2020-08-08T06:53:20.486719Z",
     "start_time": "2020-08-08T06:53:20.364095Z"
    }
   },
   "outputs": [],
   "source": [
    "# One hot Encoding of Categorical Columns.\n",
    "final_app = pd.get_dummies(app_clean, columns=[ 'Type', 'Rating_cat'], drop_first=True)\n",
    "from sklearn.preprocessing import LabelEncoder\n",
    "le = LabelEncoder()\n",
    "final_app['Installs'] = le.fit_transform(app_clean['Installs'])\n",
    "le1 = LabelEncoder()\n",
    "final_app['Category'] = le.fit_transform(app_clean['Category'])"
   ]
  },
  {
   "cell_type": "code",
   "execution_count": 277,
   "metadata": {
    "ExecuteTime": {
     "end_time": "2020-08-08T06:53:20.667534Z",
     "start_time": "2020-08-08T06:53:20.487720Z"
    }
   },
   "outputs": [
    {
     "data": {
      "text/html": [
       "<div>\n",
       "<style scoped>\n",
       "    .dataframe tbody tr th:only-of-type {\n",
       "        vertical-align: middle;\n",
       "    }\n",
       "\n",
       "    .dataframe tbody tr th {\n",
       "        vertical-align: top;\n",
       "    }\n",
       "\n",
       "    .dataframe thead th {\n",
       "        text-align: right;\n",
       "    }\n",
       "</style>\n",
       "<table border=\"1\" class=\"dataframe\">\n",
       "  <thead>\n",
       "    <tr style=\"text-align: right;\">\n",
       "      <th></th>\n",
       "      <th>Category</th>\n",
       "      <th>Rating</th>\n",
       "      <th>Reviews</th>\n",
       "      <th>Size</th>\n",
       "      <th>Installs</th>\n",
       "      <th>Price</th>\n",
       "      <th>Updated Year</th>\n",
       "      <th>Type_Paid</th>\n",
       "      <th>Rating_cat_Low</th>\n",
       "    </tr>\n",
       "  </thead>\n",
       "  <tbody>\n",
       "    <tr>\n",
       "      <th>10738</th>\n",
       "      <td>14</td>\n",
       "      <td>3.8</td>\n",
       "      <td>196</td>\n",
       "      <td>11264.0</td>\n",
       "      <td>7</td>\n",
       "      <td>0.00</td>\n",
       "      <td>2014.0</td>\n",
       "      <td>0</td>\n",
       "      <td>0</td>\n",
       "    </tr>\n",
       "    <tr>\n",
       "      <th>7495</th>\n",
       "      <td>24</td>\n",
       "      <td>3.6</td>\n",
       "      <td>100</td>\n",
       "      <td>2560.0</td>\n",
       "      <td>8</td>\n",
       "      <td>0.00</td>\n",
       "      <td>2018.0</td>\n",
       "      <td>0</td>\n",
       "      <td>0</td>\n",
       "    </tr>\n",
       "    <tr>\n",
       "      <th>7320</th>\n",
       "      <td>11</td>\n",
       "      <td>5.0</td>\n",
       "      <td>7</td>\n",
       "      <td>2355.2</td>\n",
       "      <td>6</td>\n",
       "      <td>0.00</td>\n",
       "      <td>2018.0</td>\n",
       "      <td>0</td>\n",
       "      <td>0</td>\n",
       "    </tr>\n",
       "    <tr>\n",
       "      <th>2170</th>\n",
       "      <td>11</td>\n",
       "      <td>4.8</td>\n",
       "      <td>97</td>\n",
       "      <td>3584.0</td>\n",
       "      <td>6</td>\n",
       "      <td>2.99</td>\n",
       "      <td>2018.0</td>\n",
       "      <td>1</td>\n",
       "      <td>0</td>\n",
       "    </tr>\n",
       "    <tr>\n",
       "      <th>9055</th>\n",
       "      <td>20</td>\n",
       "      <td>4.8</td>\n",
       "      <td>6</td>\n",
       "      <td>16384.0</td>\n",
       "      <td>5</td>\n",
       "      <td>0.00</td>\n",
       "      <td>2018.0</td>\n",
       "      <td>0</td>\n",
       "      <td>0</td>\n",
       "    </tr>\n",
       "    <tr>\n",
       "      <th>589</th>\n",
       "      <td>7</td>\n",
       "      <td>4.4</td>\n",
       "      <td>218</td>\n",
       "      <td>27648.0</td>\n",
       "      <td>8</td>\n",
       "      <td>0.00</td>\n",
       "      <td>2018.0</td>\n",
       "      <td>0</td>\n",
       "      <td>0</td>\n",
       "    </tr>\n",
       "    <tr>\n",
       "      <th>4190</th>\n",
       "      <td>18</td>\n",
       "      <td>4.9</td>\n",
       "      <td>145</td>\n",
       "      <td>49152.0</td>\n",
       "      <td>7</td>\n",
       "      <td>1.99</td>\n",
       "      <td>2016.0</td>\n",
       "      <td>1</td>\n",
       "      <td>0</td>\n",
       "    </tr>\n",
       "    <tr>\n",
       "      <th>446</th>\n",
       "      <td>6</td>\n",
       "      <td>4.2</td>\n",
       "      <td>15287</td>\n",
       "      <td>17408.0</td>\n",
       "      <td>12</td>\n",
       "      <td>0.00</td>\n",
       "      <td>2018.0</td>\n",
       "      <td>0</td>\n",
       "      <td>0</td>\n",
       "    </tr>\n",
       "  </tbody>\n",
       "</table>\n",
       "</div>"
      ],
      "text/plain": [
       "       Category  Rating  Reviews     Size  Installs  Price  Updated Year  \\\n",
       "10738        14     3.8      196  11264.0         7   0.00        2014.0   \n",
       "7495         24     3.6      100   2560.0         8   0.00        2018.0   \n",
       "7320         11     5.0        7   2355.2         6   0.00        2018.0   \n",
       "2170         11     4.8       97   3584.0         6   2.99        2018.0   \n",
       "9055         20     4.8        6  16384.0         5   0.00        2018.0   \n",
       "589           7     4.4      218  27648.0         8   0.00        2018.0   \n",
       "4190         18     4.9      145  49152.0         7   1.99        2016.0   \n",
       "446           6     4.2    15287  17408.0        12   0.00        2018.0   \n",
       "\n",
       "       Type_Paid  Rating_cat_Low  \n",
       "10738          0               0  \n",
       "7495           0               0  \n",
       "7320           0               0  \n",
       "2170           1               0  \n",
       "9055           0               0  \n",
       "589            0               0  \n",
       "4190           1               0  \n",
       "446            0               0  "
      ]
     },
     "execution_count": 277,
     "metadata": {},
     "output_type": "execute_result"
    }
   ],
   "source": [
    "final_app.sample(8)"
   ]
  },
  {
   "cell_type": "code",
   "execution_count": 278,
   "metadata": {
    "ExecuteTime": {
     "end_time": "2020-08-08T06:53:20.784155Z",
     "start_time": "2020-08-08T06:53:20.669531Z"
    }
   },
   "outputs": [
    {
     "name": "stdout",
     "output_type": "stream",
     "text": [
      "<class 'pandas.core.frame.DataFrame'>\n",
      "Int64Index: 8196 entries, 0 to 10840\n",
      "Data columns (total 9 columns):\n",
      " #   Column          Non-Null Count  Dtype  \n",
      "---  ------          --------------  -----  \n",
      " 0   Category        8196 non-null   int32  \n",
      " 1   Rating          8196 non-null   float64\n",
      " 2   Reviews         8196 non-null   int64  \n",
      " 3   Size            8196 non-null   float64\n",
      " 4   Installs        8196 non-null   int64  \n",
      " 5   Price           8196 non-null   float64\n",
      " 6   Updated Year    8196 non-null   float64\n",
      " 7   Type_Paid       8196 non-null   uint8  \n",
      " 8   Rating_cat_Low  8196 non-null   uint8  \n",
      "dtypes: float64(4), int32(1), int64(2), uint8(2)\n",
      "memory usage: 496.2 KB\n"
     ]
    }
   ],
   "source": [
    "final_app.info()"
   ]
  },
  {
   "cell_type": "markdown",
   "metadata": {},
   "source": [
    "# Data Preperation"
   ]
  },
  {
   "cell_type": "code",
   "execution_count": 279,
   "metadata": {
    "ExecuteTime": {
     "end_time": "2020-08-08T06:53:20.890984Z",
     "start_time": "2020-08-08T06:53:20.786151Z"
    }
   },
   "outputs": [],
   "source": [
    "from sklearn.model_selection import train_test_split, cross_val_score\n",
    "from sklearn.tree import DecisionTreeClassifier\n",
    "from sklearn.ensemble import BaggingClassifier, RandomForestClassifier, AdaBoostClassifier, GradientBoostingClassifier\n",
    "from sklearn.ensemble import StackingClassifier, VotingClassifier\n",
    "from sklearn.metrics import confusion_matrix, classification_report"
   ]
  },
  {
   "cell_type": "code",
   "execution_count": 280,
   "metadata": {
    "ExecuteTime": {
     "end_time": "2020-08-08T06:53:21.079737Z",
     "start_time": "2020-08-08T06:53:20.892895Z"
    }
   },
   "outputs": [],
   "source": [
    "x = final_app.drop(['Rating_cat_Low', 'Rating'], axis=1)\n",
    "y = final_app['Rating_cat_Low']\n",
    "Xtrain, Xtest, ytrain, ytest = train_test_split(x, y, test_size=0.3, stratify = y, random_state = 10)"
   ]
  },
  {
   "cell_type": "code",
   "execution_count": 281,
   "metadata": {
    "ExecuteTime": {
     "end_time": "2020-08-08T06:53:21.224695Z",
     "start_time": "2020-08-08T06:53:21.081526Z"
    }
   },
   "outputs": [],
   "source": [
    "def evaluate(model):\n",
    "    model.fit(Xtrain, ytrain)\n",
    "    pred = model.predict(Xtest)\n",
    "    cval = cross_val_score(model, x, y, cv=5)\n",
    "    print(\"Training Accuracy:\", model.score(Xtrain, ytrain))\n",
    "    print(\"Testing Accuracy:\", model.score(Xtest, ytest))\n",
    "    print('Bias Error', cval.mean())\n",
    "    print(\"Variance Error\", cval.std())\n",
    "    print(confusion_matrix(ytest, pred))\n",
    "    print(classification_report(ytest, pred))"
   ]
  },
  {
   "cell_type": "markdown",
   "metadata": {},
   "source": [
    "# Model Building"
   ]
  },
  {
   "cell_type": "markdown",
   "metadata": {},
   "source": [
    "## Decision Tree."
   ]
  },
  {
   "cell_type": "code",
   "execution_count": 282,
   "metadata": {
    "ExecuteTime": {
     "end_time": "2020-08-08T06:53:21.515138Z",
     "start_time": "2020-08-08T06:53:21.226526Z"
    }
   },
   "outputs": [
    {
     "name": "stdout",
     "output_type": "stream",
     "text": [
      "Training Accuracy: 0.9998256928708384\n",
      "Testing Accuracy: 0.8255388369255795\n",
      "Bias Error 0.8040459679459516\n",
      "Variance Error 0.020409567168465995\n",
      "[[1972  225]\n",
      " [ 204   58]]\n",
      "              precision    recall  f1-score   support\n",
      "\n",
      "           0       0.91      0.90      0.90      2197\n",
      "           1       0.20      0.22      0.21       262\n",
      "\n",
      "    accuracy                           0.83      2459\n",
      "   macro avg       0.56      0.56      0.56      2459\n",
      "weighted avg       0.83      0.83      0.83      2459\n",
      "\n"
     ]
    }
   ],
   "source": [
    "dt = DecisionTreeClassifier(criterion='entropy', random_state=10)\n",
    "evaluate(dt)"
   ]
  },
  {
   "cell_type": "code",
   "execution_count": 283,
   "metadata": {
    "ExecuteTime": {
     "end_time": "2020-08-08T06:53:21.527107Z",
     "start_time": "2020-08-08T06:53:21.517132Z"
    }
   },
   "outputs": [
    {
     "data": {
      "text/html": [
       "<div>\n",
       "<style scoped>\n",
       "    .dataframe tbody tr th:only-of-type {\n",
       "        vertical-align: middle;\n",
       "    }\n",
       "\n",
       "    .dataframe tbody tr th {\n",
       "        vertical-align: top;\n",
       "    }\n",
       "\n",
       "    .dataframe thead th {\n",
       "        text-align: right;\n",
       "    }\n",
       "</style>\n",
       "<table border=\"1\" class=\"dataframe\">\n",
       "  <thead>\n",
       "    <tr style=\"text-align: right;\">\n",
       "      <th></th>\n",
       "      <th>features</th>\n",
       "      <th>Importance</th>\n",
       "    </tr>\n",
       "  </thead>\n",
       "  <tbody>\n",
       "    <tr>\n",
       "      <th>0</th>\n",
       "      <td>Category</td>\n",
       "      <td>0.147130</td>\n",
       "    </tr>\n",
       "    <tr>\n",
       "      <th>1</th>\n",
       "      <td>Reviews</td>\n",
       "      <td>0.442640</td>\n",
       "    </tr>\n",
       "    <tr>\n",
       "      <th>2</th>\n",
       "      <td>Size</td>\n",
       "      <td>0.245430</td>\n",
       "    </tr>\n",
       "    <tr>\n",
       "      <th>3</th>\n",
       "      <td>Installs</td>\n",
       "      <td>0.069857</td>\n",
       "    </tr>\n",
       "    <tr>\n",
       "      <th>4</th>\n",
       "      <td>Price</td>\n",
       "      <td>0.015163</td>\n",
       "    </tr>\n",
       "    <tr>\n",
       "      <th>5</th>\n",
       "      <td>Updated Year</td>\n",
       "      <td>0.070031</td>\n",
       "    </tr>\n",
       "    <tr>\n",
       "      <th>6</th>\n",
       "      <td>Type_Paid</td>\n",
       "      <td>0.009749</td>\n",
       "    </tr>\n",
       "  </tbody>\n",
       "</table>\n",
       "</div>"
      ],
      "text/plain": [
       "       features  Importance\n",
       "0      Category    0.147130\n",
       "1       Reviews    0.442640\n",
       "2          Size    0.245430\n",
       "3      Installs    0.069857\n",
       "4         Price    0.015163\n",
       "5  Updated Year    0.070031\n",
       "6     Type_Paid    0.009749"
      ]
     },
     "execution_count": 283,
     "metadata": {},
     "output_type": "execute_result"
    }
   ],
   "source": [
    "feature_importances = pd.DataFrame({'features': Xtrain.columns, 'Importance': dt.feature_importances_})\n",
    "feature_importances"
   ]
  },
  {
   "cell_type": "markdown",
   "metadata": {},
   "source": [
    "## Bagging Classifier"
   ]
  },
  {
   "cell_type": "code",
   "execution_count": 284,
   "metadata": {
    "ExecuteTime": {
     "end_time": "2020-08-08T06:53:24.417466Z",
     "start_time": "2020-08-08T06:53:21.530098Z"
    }
   },
   "outputs": [
    {
     "name": "stdout",
     "output_type": "stream",
     "text": [
      "Training Accuracy: 0.9982569287083842\n",
      "Testing Accuracy: 0.8812525416836112\n",
      "Bias Error 0.8740830964746499\n",
      "Variance Error 0.009649385952758162\n",
      "[[2148   49]\n",
      " [ 243   19]]\n",
      "              precision    recall  f1-score   support\n",
      "\n",
      "           0       0.90      0.98      0.94      2197\n",
      "           1       0.28      0.07      0.12       262\n",
      "\n",
      "    accuracy                           0.88      2459\n",
      "   macro avg       0.59      0.53      0.53      2459\n",
      "weighted avg       0.83      0.88      0.85      2459\n",
      "\n"
     ]
    }
   ],
   "source": [
    "bg = BaggingClassifier(base_estimator=dt, n_estimators=30, random_state=10)\n",
    "evaluate(bg)"
   ]
  },
  {
   "cell_type": "markdown",
   "metadata": {},
   "source": [
    "## Random Forest"
   ]
  },
  {
   "cell_type": "code",
   "execution_count": 285,
   "metadata": {
    "ExecuteTime": {
     "end_time": "2020-08-08T06:53:26.173909Z",
     "start_time": "2020-08-08T06:53:24.419461Z"
    }
   },
   "outputs": [
    {
     "name": "stdout",
     "output_type": "stream",
     "text": [
      "Training Accuracy: 0.9996513857416769\n",
      "Testing Accuracy: 0.8865392435949573\n",
      "Bias Error 0.8771339603267906\n",
      "Variance Error 0.0071513168505149\n",
      "[[2167   30]\n",
      " [ 249   13]]\n",
      "              precision    recall  f1-score   support\n",
      "\n",
      "           0       0.90      0.99      0.94      2197\n",
      "           1       0.30      0.05      0.09       262\n",
      "\n",
      "    accuracy                           0.89      2459\n",
      "   macro avg       0.60      0.52      0.51      2459\n",
      "weighted avg       0.83      0.89      0.85      2459\n",
      "\n"
     ]
    }
   ],
   "source": [
    "rf = RandomForestClassifier(n_estimators=50, random_state=10)\n",
    "evaluate(rf)"
   ]
  },
  {
   "cell_type": "markdown",
   "metadata": {
    "ExecuteTime": {
     "end_time": "2020-08-08T06:38:04.279372Z",
     "start_time": "2020-08-08T06:38:04.271395Z"
    }
   },
   "source": [
    "## Gradient Boosting"
   ]
  },
  {
   "cell_type": "code",
   "execution_count": 286,
   "metadata": {
    "ExecuteTime": {
     "end_time": "2020-08-08T06:53:28.237543Z",
     "start_time": "2020-08-08T06:53:26.175904Z"
    }
   },
   "outputs": [
    {
     "name": "stdout",
     "output_type": "stream",
     "text": [
      "Training Accuracy: 0.8961129510196967\n",
      "Testing Accuracy: 0.8934526230174867\n",
      "Bias Error 0.8890921739906844\n",
      "Variance Error 0.0038682924859628825\n",
      "[[2195    2]\n",
      " [ 260    2]]\n",
      "              precision    recall  f1-score   support\n",
      "\n",
      "           0       0.89      1.00      0.94      2197\n",
      "           1       0.50      0.01      0.02       262\n",
      "\n",
      "    accuracy                           0.89      2459\n",
      "   macro avg       0.70      0.50      0.48      2459\n",
      "weighted avg       0.85      0.89      0.84      2459\n",
      "\n"
     ]
    }
   ],
   "source": [
    "gb = GradientBoostingClassifier(learning_rate=0.1, n_estimators=70, random_state=10)\n",
    "evaluate(gb)"
   ]
  },
  {
   "cell_type": "markdown",
   "metadata": {},
   "source": [
    "## AdaBoost"
   ]
  },
  {
   "cell_type": "code",
   "execution_count": 287,
   "metadata": {
    "ExecuteTime": {
     "end_time": "2020-08-08T06:53:31.010650Z",
     "start_time": "2020-08-08T06:53:28.239497Z"
    }
   },
   "outputs": [
    {
     "name": "stdout",
     "output_type": "stream",
     "text": [
      "Training Accuracy: 0.8983789436987972\n",
      "Testing Accuracy: 0.8906059373729158\n",
      "Bias Error 0.8904341582464026\n",
      "Variance Error 0.0030356009757154397\n",
      "[[2189    8]\n",
      " [ 261    1]]\n",
      "              precision    recall  f1-score   support\n",
      "\n",
      "           0       0.89      1.00      0.94      2197\n",
      "           1       0.11      0.00      0.01       262\n",
      "\n",
      "    accuracy                           0.89      2459\n",
      "   macro avg       0.50      0.50      0.47      2459\n",
      "weighted avg       0.81      0.89      0.84      2459\n",
      "\n"
     ]
    }
   ],
   "source": [
    "ab = AdaBoostClassifier(base_estimator= DecisionTreeClassifier(max_depth=3, random_state=10), \n",
    "                        learning_rate=0.1,n_estimators = 70 ,random_state=10 )\n",
    "evaluate(ab)"
   ]
  },
  {
   "cell_type": "markdown",
   "metadata": {},
   "source": [
    "## VotingClassifier"
   ]
  },
  {
   "cell_type": "code",
   "execution_count": 288,
   "metadata": {
    "ExecuteTime": {
     "end_time": "2020-08-08T06:53:40.491071Z",
     "start_time": "2020-08-08T06:53:31.012643Z"
    }
   },
   "outputs": [
    {
     "name": "stdout",
     "output_type": "stream",
     "text": [
      "Training Accuracy: 0.9604322816803207\n",
      "Testing Accuracy: 0.8914192761285076\n",
      "Bias Error 0.8887255018675873\n",
      "Variance Error 0.005821479726985801\n",
      "[[2187   10]\n",
      " [ 257    5]]\n",
      "              precision    recall  f1-score   support\n",
      "\n",
      "           0       0.89      1.00      0.94      2197\n",
      "           1       0.33      0.02      0.04       262\n",
      "\n",
      "    accuracy                           0.89      2459\n",
      "   macro avg       0.61      0.51      0.49      2459\n",
      "weighted avg       0.84      0.89      0.85      2459\n",
      "\n"
     ]
    }
   ],
   "source": [
    "vc = VotingClassifier([('ab', ab), ('gb', gb), ('bg', bg), ('rf', rf)], voting='soft')\n",
    "evaluate(vc)"
   ]
  },
  {
   "cell_type": "code",
   "execution_count": 289,
   "metadata": {
    "ExecuteTime": {
     "end_time": "2020-08-08T06:53:50.119278Z",
     "start_time": "2020-08-08T06:53:40.493027Z"
    }
   },
   "outputs": [
    {
     "name": "stdout",
     "output_type": "stream",
     "text": [
      "Training Accuracy: 0.9001220149904131\n",
      "Testing Accuracy: 0.8934526230174867\n",
      "Bias Error 0.8911661631869523\n",
      "Variance Error 0.0020768517479941026\n",
      "[[2195    2]\n",
      " [ 260    2]]\n",
      "              precision    recall  f1-score   support\n",
      "\n",
      "           0       0.89      1.00      0.94      2197\n",
      "           1       0.50      0.01      0.02       262\n",
      "\n",
      "    accuracy                           0.89      2459\n",
      "   macro avg       0.70      0.50      0.48      2459\n",
      "weighted avg       0.85      0.89      0.84      2459\n",
      "\n"
     ]
    }
   ],
   "source": [
    "vc = VotingClassifier([('ab', ab), ('gb', gb), ('bg', bg), ('rf', rf)], voting='hard')\n",
    "evaluate(vc)"
   ]
  },
  {
   "cell_type": "code",
   "execution_count": 290,
   "metadata": {
    "ExecuteTime": {
     "end_time": "2020-08-08T06:54:37.621188Z",
     "start_time": "2020-08-08T06:53:50.121303Z"
    }
   },
   "outputs": [
    {
     "name": "stdout",
     "output_type": "stream",
     "text": [
      "Training Accuracy: 0.9097089070943002\n",
      "Testing Accuracy: 0.8922326148840992\n",
      "Bias Error 0.8932405988184348\n",
      "Variance Error 2.604205419722838e-05\n",
      "[[2192    5]\n",
      " [ 260    2]]\n",
      "              precision    recall  f1-score   support\n",
      "\n",
      "           0       0.89      1.00      0.94      2197\n",
      "           1       0.29      0.01      0.01       262\n",
      "\n",
      "    accuracy                           0.89      2459\n",
      "   macro avg       0.59      0.50      0.48      2459\n",
      "weighted avg       0.83      0.89      0.84      2459\n",
      "\n"
     ]
    }
   ],
   "source": [
    "sc = StackingClassifier([('ab', ab), ('gb', gb), ('bg', bg), ('rf', rf)])\n",
    "evaluate(sc)"
   ]
  },
  {
   "cell_type": "code",
   "execution_count": 291,
   "metadata": {
    "ExecuteTime": {
     "end_time": "2020-08-08T06:54:37.998180Z",
     "start_time": "2020-08-08T06:54:37.623184Z"
    }
   },
   "outputs": [
    {
     "name": "stdout",
     "output_type": "stream",
     "text": [
      "Training Accuracy: 0.8933240369531114\n",
      "Testing Accuracy: 0.8934526230174867\n",
      "Bias Error 0.8933626244438161\n",
      "Variance Error 0.00023887528887684645\n",
      "[[2197    0]\n",
      " [ 262    0]]\n",
      "              precision    recall  f1-score   support\n",
      "\n",
      "           0       0.89      1.00      0.94      2197\n",
      "           1       0.00      0.00      0.00       262\n",
      "\n",
      "    accuracy                           0.89      2459\n",
      "   macro avg       0.45      0.50      0.47      2459\n",
      "weighted avg       0.80      0.89      0.84      2459\n",
      "\n"
     ]
    },
    {
     "name": "stderr",
     "output_type": "stream",
     "text": [
      "C:\\Users\\mjaya\\anaconda3\\lib\\site-packages\\sklearn\\metrics\\_classification.py:1272: UndefinedMetricWarning: Precision and F-score are ill-defined and being set to 0.0 in labels with no predicted samples. Use `zero_division` parameter to control this behavior.\n",
      "  _warn_prf(average, modifier, msg_start, len(result))\n"
     ]
    }
   ],
   "source": [
    "from sklearn.linear_model import LogisticRegression\n",
    "lr = LogisticRegression()\n",
    "evaluate(lr)"
   ]
  },
  {
   "cell_type": "markdown",
   "metadata": {},
   "source": [
    "## Conslusions\n",
    "\n",
    "* All the Ensembeles models have an accuracy around 87%-89% compared to Decision Tree's 80%. \n",
    "* The Confusion matrix and Classification report suggest that the models are predicting the dominant Class 0 (High Rating) more accurately than the Class 1 (Low Rating).\n",
    "* Logitstic Regression could not make the predictions for the minority class.\n",
    "* The class imbalance is hindering the accuracies and model is able to identify the dominant class. Classes must be balanced to achieve greater Precision and Recall."
   ]
  },
  {
   "cell_type": "code",
   "execution_count": null,
   "metadata": {},
   "outputs": [],
   "source": []
  }
 ],
 "metadata": {
  "kernelspec": {
   "display_name": "Python 3",
   "language": "python",
   "name": "python3"
  },
  "language_info": {
   "codemirror_mode": {
    "name": "ipython",
    "version": 3
   },
   "file_extension": ".py",
   "mimetype": "text/x-python",
   "name": "python",
   "nbconvert_exporter": "python",
   "pygments_lexer": "ipython3",
   "version": "3.7.6"
  }
 },
 "nbformat": 4,
 "nbformat_minor": 4
}
